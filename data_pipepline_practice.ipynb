{
 "cells": [
  {
   "cell_type": "code",
   "execution_count": 1,
   "id": "0d8d0ede",
   "metadata": {},
   "outputs": [],
   "source": [
    "import csv\n",
    "from faker import Faker\n",
    "import pandas as pd\n",
    "import json"
   ]
  },
  {
   "cell_type": "code",
   "execution_count": 2,
   "id": "6a2251d5",
   "metadata": {},
   "outputs": [],
   "source": [
    "output = open('myCSV.CSV', mode = 'w')"
   ]
  },
  {
   "cell_type": "code",
   "execution_count": 3,
   "id": "c349567e",
   "metadata": {},
   "outputs": [],
   "source": [
    "mywriter = csv.writer(output)"
   ]
  },
  {
   "cell_type": "code",
   "execution_count": 4,
   "id": "38eed7fc",
   "metadata": {},
   "outputs": [],
   "source": [
    "header = ['name', 'age']"
   ]
  },
  {
   "cell_type": "code",
   "execution_count": 5,
   "id": "8150a6d2",
   "metadata": {},
   "outputs": [
    {
     "data": {
      "text/plain": [
       "10"
      ]
     },
     "execution_count": 5,
     "metadata": {},
     "output_type": "execute_result"
    }
   ],
   "source": [
    "mywriter.writerow(header)"
   ]
  },
  {
   "cell_type": "code",
   "execution_count": 6,
   "id": "f15b63b3",
   "metadata": {},
   "outputs": [],
   "source": [
    "data = ['Bob Smith', 40]"
   ]
  },
  {
   "cell_type": "code",
   "execution_count": 7,
   "id": "42c60913",
   "metadata": {},
   "outputs": [],
   "source": [
    "mywriter.writerow(data)\n",
    "output.close()"
   ]
  },
  {
   "cell_type": "code",
   "execution_count": 8,
   "id": "74e01e5b",
   "metadata": {},
   "outputs": [
    {
     "name": "stdout",
     "output_type": "stream",
     "text": [
      "name,age\r",
      "\r\n",
      "Bob Smith,40\r",
      "\r\n"
     ]
    }
   ],
   "source": [
    "cat mycsv.csv"
   ]
  },
  {
   "cell_type": "markdown",
   "id": "2332c46f",
   "metadata": {},
   "source": [
    "# Generating Random & Fake 1000 CSV Records"
   ]
  },
  {
   "cell_type": "code",
   "execution_count": 9,
   "id": "3a1c4332",
   "metadata": {},
   "outputs": [],
   "source": [
    "# Create an instance of the Faker class\n",
    "fake = Faker()\n",
    "\n",
    "# Open a new CSV file for writing\n",
    "output = open('fake_data.csv', 'w', newline='')\n",
    "\n",
    "# Define the headers for the CSV file\n",
    "header = ['Name', 'Age', 'Email', 'Phone', 'Street', 'Sity', 'State', 'Zip', 'Lon', 'Lat']\n",
    "\n",
    "# Create a CSV writer object\n",
    "mywriter = csv.writer(output)\n",
    "\n",
    "# Write the headers to the CSV file\n",
    "mywriter.writerow(header)\n",
    "\n",
    "# Generate 1000 fake records and write them to the CSV file\n",
    "for i in range(1000):\n",
    "    mywriter.writerow([fake.name(), fake.random_int(min=18, max=80, step=1), \n",
    "                       fake.email(), fake.phone_number(),\n",
    "                       fake.street_address(), fake.city(), fake.state_abbr(), fake.zipcode(), \n",
    "                       fake.longitude(), fake.latitude()])\n",
    "\n",
    "# Close the CSV file\n",
    "output.close()"
   ]
  },
  {
   "cell_type": "code",
   "execution_count": 10,
   "id": "5cb0b6e0",
   "metadata": {},
   "outputs": [
    {
     "name": "stdout",
     "output_type": "stream",
     "text": [
      "Chelsea Garcia\n",
      "Christine Ware\n",
      "Donald Fowler\n",
      "Samuel Long\n",
      "George James\n",
      "Pamela Duran\n",
      "David Benson\n",
      "Oscar Ball\n",
      "Derrick Thompson\n",
      "Mrs. Heidi Smith\n"
     ]
    }
   ],
   "source": [
    "with open('fake_data.csv') as f:\n",
    "    myreader = csv.DictReader(f)\n",
    "    headers = next(myreader)\n",
    "    count = 0\n",
    "    for row in myreader:\n",
    "        if count < 10:\n",
    "            print(row['Name'])\n",
    "            count += 1\n",
    "        else:\n",
    "            break"
   ]
  },
  {
   "cell_type": "code",
   "execution_count": 11,
   "id": "dbc78532",
   "metadata": {},
   "outputs": [
    {
     "data": {
      "text/html": [
       "<div>\n",
       "<style scoped>\n",
       "    .dataframe tbody tr th:only-of-type {\n",
       "        vertical-align: middle;\n",
       "    }\n",
       "\n",
       "    .dataframe tbody tr th {\n",
       "        vertical-align: top;\n",
       "    }\n",
       "\n",
       "    .dataframe thead th {\n",
       "        text-align: right;\n",
       "    }\n",
       "</style>\n",
       "<table border=\"1\" class=\"dataframe\">\n",
       "  <thead>\n",
       "    <tr style=\"text-align: right;\">\n",
       "      <th></th>\n",
       "      <th>Name</th>\n",
       "      <th>Age</th>\n",
       "      <th>Email</th>\n",
       "      <th>Phone</th>\n",
       "      <th>Street</th>\n",
       "      <th>Sity</th>\n",
       "      <th>State</th>\n",
       "      <th>Zip</th>\n",
       "      <th>Lon</th>\n",
       "      <th>Lat</th>\n",
       "    </tr>\n",
       "  </thead>\n",
       "  <tbody>\n",
       "    <tr>\n",
       "      <th>0</th>\n",
       "      <td>Kimberly Webb</td>\n",
       "      <td>42</td>\n",
       "      <td>paul36@example.net</td>\n",
       "      <td>001-492-929-8371x1574</td>\n",
       "      <td>54753 Hart Extension</td>\n",
       "      <td>Ericbury</td>\n",
       "      <td>NV</td>\n",
       "      <td>28447</td>\n",
       "      <td>127.546450</td>\n",
       "      <td>13.690846</td>\n",
       "    </tr>\n",
       "    <tr>\n",
       "      <th>1</th>\n",
       "      <td>Chelsea Garcia</td>\n",
       "      <td>60</td>\n",
       "      <td>andersonbrian@example.com</td>\n",
       "      <td>963-671-6857x2100</td>\n",
       "      <td>8853 Larry Haven Apt. 428</td>\n",
       "      <td>Matthewside</td>\n",
       "      <td>CA</td>\n",
       "      <td>32175</td>\n",
       "      <td>-33.868308</td>\n",
       "      <td>-55.915134</td>\n",
       "    </tr>\n",
       "    <tr>\n",
       "      <th>2</th>\n",
       "      <td>Christine Ware</td>\n",
       "      <td>60</td>\n",
       "      <td>robertduran@example.com</td>\n",
       "      <td>+1-489-830-8549x214</td>\n",
       "      <td>3475 Jeffrey Landing</td>\n",
       "      <td>Millerfurt</td>\n",
       "      <td>MT</td>\n",
       "      <td>18075</td>\n",
       "      <td>-118.137921</td>\n",
       "      <td>-52.019292</td>\n",
       "    </tr>\n",
       "    <tr>\n",
       "      <th>3</th>\n",
       "      <td>Donald Fowler</td>\n",
       "      <td>49</td>\n",
       "      <td>emilybaxter@example.com</td>\n",
       "      <td>001-895-106-7963</td>\n",
       "      <td>64757 Cox Springs Apt. 251</td>\n",
       "      <td>North Nicholasburgh</td>\n",
       "      <td>CO</td>\n",
       "      <td>60815</td>\n",
       "      <td>-55.151826</td>\n",
       "      <td>71.101234</td>\n",
       "    </tr>\n",
       "    <tr>\n",
       "      <th>4</th>\n",
       "      <td>Samuel Long</td>\n",
       "      <td>23</td>\n",
       "      <td>jessicasmith@example.org</td>\n",
       "      <td>+1-488-050-8202</td>\n",
       "      <td>8311 Rodriguez Drive Apt. 349</td>\n",
       "      <td>Lake Sara</td>\n",
       "      <td>NY</td>\n",
       "      <td>27112</td>\n",
       "      <td>-90.543506</td>\n",
       "      <td>86.396482</td>\n",
       "    </tr>\n",
       "    <tr>\n",
       "      <th>5</th>\n",
       "      <td>George James</td>\n",
       "      <td>65</td>\n",
       "      <td>glennjonathan@example.com</td>\n",
       "      <td>(769)165-2183</td>\n",
       "      <td>866 Lester Neck Suite 228</td>\n",
       "      <td>East Jennytown</td>\n",
       "      <td>UT</td>\n",
       "      <td>65327</td>\n",
       "      <td>126.720577</td>\n",
       "      <td>78.158254</td>\n",
       "    </tr>\n",
       "    <tr>\n",
       "      <th>6</th>\n",
       "      <td>Pamela Duran</td>\n",
       "      <td>31</td>\n",
       "      <td>jamescooper@example.com</td>\n",
       "      <td>234-582-5335</td>\n",
       "      <td>034 Valerie Inlet</td>\n",
       "      <td>West Bryan</td>\n",
       "      <td>MA</td>\n",
       "      <td>63385</td>\n",
       "      <td>132.883831</td>\n",
       "      <td>-72.624293</td>\n",
       "    </tr>\n",
       "    <tr>\n",
       "      <th>7</th>\n",
       "      <td>David Benson</td>\n",
       "      <td>25</td>\n",
       "      <td>hjohnson@example.com</td>\n",
       "      <td>001-614-422-8146x672</td>\n",
       "      <td>0105 Garcia Greens</td>\n",
       "      <td>Lake Jessicaberg</td>\n",
       "      <td>IA</td>\n",
       "      <td>54537</td>\n",
       "      <td>162.445856</td>\n",
       "      <td>-79.379829</td>\n",
       "    </tr>\n",
       "    <tr>\n",
       "      <th>8</th>\n",
       "      <td>Oscar Ball</td>\n",
       "      <td>37</td>\n",
       "      <td>sherylrodriguez@example.net</td>\n",
       "      <td>(245)035-9833x15221</td>\n",
       "      <td>67758 Rodriguez Pines Suite 297</td>\n",
       "      <td>Lake Wendy</td>\n",
       "      <td>ME</td>\n",
       "      <td>21941</td>\n",
       "      <td>121.055983</td>\n",
       "      <td>68.329556</td>\n",
       "    </tr>\n",
       "    <tr>\n",
       "      <th>9</th>\n",
       "      <td>Derrick Thompson</td>\n",
       "      <td>68</td>\n",
       "      <td>rodriguezbilly@example.org</td>\n",
       "      <td>(933)518-7794x99732</td>\n",
       "      <td>6253 Cain Brook Suite 237</td>\n",
       "      <td>Hernandezberg</td>\n",
       "      <td>UT</td>\n",
       "      <td>51983</td>\n",
       "      <td>171.479702</td>\n",
       "      <td>13.320085</td>\n",
       "    </tr>\n",
       "  </tbody>\n",
       "</table>\n",
       "</div>"
      ],
      "text/plain": [
       "               Name  Age                        Email                  Phone  \\\n",
       "0     Kimberly Webb   42           paul36@example.net  001-492-929-8371x1574   \n",
       "1    Chelsea Garcia   60    andersonbrian@example.com      963-671-6857x2100   \n",
       "2    Christine Ware   60      robertduran@example.com    +1-489-830-8549x214   \n",
       "3     Donald Fowler   49      emilybaxter@example.com       001-895-106-7963   \n",
       "4       Samuel Long   23     jessicasmith@example.org        +1-488-050-8202   \n",
       "5      George James   65    glennjonathan@example.com          (769)165-2183   \n",
       "6      Pamela Duran   31      jamescooper@example.com           234-582-5335   \n",
       "7      David Benson   25         hjohnson@example.com   001-614-422-8146x672   \n",
       "8        Oscar Ball   37  sherylrodriguez@example.net    (245)035-9833x15221   \n",
       "9  Derrick Thompson   68   rodriguezbilly@example.org    (933)518-7794x99732   \n",
       "\n",
       "                            Street                 Sity State    Zip  \\\n",
       "0             54753 Hart Extension             Ericbury    NV  28447   \n",
       "1        8853 Larry Haven Apt. 428          Matthewside    CA  32175   \n",
       "2             3475 Jeffrey Landing           Millerfurt    MT  18075   \n",
       "3       64757 Cox Springs Apt. 251  North Nicholasburgh    CO  60815   \n",
       "4    8311 Rodriguez Drive Apt. 349            Lake Sara    NY  27112   \n",
       "5        866 Lester Neck Suite 228       East Jennytown    UT  65327   \n",
       "6                034 Valerie Inlet           West Bryan    MA  63385   \n",
       "7               0105 Garcia Greens     Lake Jessicaberg    IA  54537   \n",
       "8  67758 Rodriguez Pines Suite 297           Lake Wendy    ME  21941   \n",
       "9        6253 Cain Brook Suite 237        Hernandezberg    UT  51983   \n",
       "\n",
       "          Lon        Lat  \n",
       "0  127.546450  13.690846  \n",
       "1  -33.868308 -55.915134  \n",
       "2 -118.137921 -52.019292  \n",
       "3  -55.151826  71.101234  \n",
       "4  -90.543506  86.396482  \n",
       "5  126.720577  78.158254  \n",
       "6  132.883831 -72.624293  \n",
       "7  162.445856 -79.379829  \n",
       "8  121.055983  68.329556  \n",
       "9  171.479702  13.320085  "
      ]
     },
     "execution_count": 11,
     "metadata": {},
     "output_type": "execute_result"
    }
   ],
   "source": [
    "# Reading the fake files using pandas.\n",
    "df = pd.read_csv('fake_data.csv')\n",
    "df.head(10)"
   ]
  },
  {
   "cell_type": "code",
   "execution_count": 12,
   "id": "5df4e7df",
   "metadata": {},
   "outputs": [
    {
     "data": {
      "text/plain": [
       "(1000, 10)"
      ]
     },
     "execution_count": 12,
     "metadata": {},
     "output_type": "execute_result"
    }
   ],
   "source": [
    "df.shape"
   ]
  },
  {
   "cell_type": "code",
   "execution_count": 13,
   "id": "1b9c65a1",
   "metadata": {},
   "outputs": [
    {
     "name": "stdout",
     "output_type": "stream",
     "text": [
      "<class 'pandas.core.frame.DataFrame'>\n",
      "RangeIndex: 1000 entries, 0 to 999\n",
      "Data columns (total 10 columns):\n",
      " #   Column  Non-Null Count  Dtype  \n",
      "---  ------  --------------  -----  \n",
      " 0   Name    1000 non-null   object \n",
      " 1   Age     1000 non-null   int64  \n",
      " 2   Email   1000 non-null   object \n",
      " 3   Phone   1000 non-null   object \n",
      " 4   Street  1000 non-null   object \n",
      " 5   Sity    1000 non-null   object \n",
      " 6   State   1000 non-null   object \n",
      " 7   Zip     1000 non-null   int64  \n",
      " 8   Lon     1000 non-null   float64\n",
      " 9   Lat     1000 non-null   float64\n",
      "dtypes: float64(2), int64(2), object(6)\n",
      "memory usage: 78.2+ KB\n"
     ]
    }
   ],
   "source": [
    "df.info()"
   ]
  },
  {
   "cell_type": "markdown",
   "id": "ba1a5424",
   "metadata": {},
   "source": [
    "# Generating Random & Fake 1000 JSON Records"
   ]
  },
  {
   "cell_type": "code",
   "execution_count": 14,
   "id": "35315d7c",
   "metadata": {},
   "outputs": [],
   "source": [
    "# Generate 1000 fake records and store them in a list of dictionaries\n",
    "fake_data = []\n",
    "for i in range(1000):\n",
    "    fake_record = {\n",
    "        'Name': fake.name(),\n",
    "        'Age': fake.random_int(min=18, max=80, step=1),\n",
    "        'Email': fake.email(),\n",
    "        'Phone': fake.phone_number(),\n",
    "        'Street': fake.street_address(),\n",
    "        'City': fake.city(),\n",
    "        'State': fake.state_abbr(),\n",
    "        'Zip': fake.zipcode(),\n",
    "       'Lng': str(fake.longitude()),\n",
    "        'Lat': str(fake.latitude())\n",
    "    }\n",
    "    fake_data.append(fake_record)"
   ]
  },
  {
   "cell_type": "code",
   "execution_count": 15,
   "id": "4f0b39b6",
   "metadata": {},
   "outputs": [],
   "source": [
    "# Open a new JSON file for writing\n",
    "with open('fake_data.json', 'w') as f:\n",
    "    json.dump(fake_data, f, indent = 4)"
   ]
  },
  {
   "cell_type": "code",
   "execution_count": 16,
   "id": "c14f9d27",
   "metadata": {},
   "outputs": [
    {
     "name": "stdout",
     "output_type": "stream",
     "text": [
      "mvasquez@example.org\n",
      "mark62@example.org\n",
      "yjenkins@example.net\n",
      "yhoward@example.org\n",
      "kellybruce@example.net\n",
      "lcooper@example.com\n",
      "oconnorconnie@example.org\n",
      "elizabethstone@example.org\n",
      "johnmichael@example.net\n",
      "kylehill@example.com\n"
     ]
    }
   ],
   "source": [
    "# Open the json file for reading\n",
    "with open('fake_data.json', 'r') as f:\n",
    "    data = json.load(f)\n",
    "# Print the first 10 rows for the email records.\n",
    "for row in data[:10]:\n",
    "    print(row['Email'])"
   ]
  },
  {
   "cell_type": "code",
   "execution_count": 17,
   "id": "180781f4",
   "metadata": {},
   "outputs": [
    {
     "data": {
      "text/html": [
       "<div>\n",
       "<style scoped>\n",
       "    .dataframe tbody tr th:only-of-type {\n",
       "        vertical-align: middle;\n",
       "    }\n",
       "\n",
       "    .dataframe tbody tr th {\n",
       "        vertical-align: top;\n",
       "    }\n",
       "\n",
       "    .dataframe thead th {\n",
       "        text-align: right;\n",
       "    }\n",
       "</style>\n",
       "<table border=\"1\" class=\"dataframe\">\n",
       "  <thead>\n",
       "    <tr style=\"text-align: right;\">\n",
       "      <th></th>\n",
       "      <th>Name</th>\n",
       "      <th>Age</th>\n",
       "      <th>Email</th>\n",
       "      <th>Phone</th>\n",
       "      <th>Street</th>\n",
       "      <th>City</th>\n",
       "      <th>State</th>\n",
       "      <th>Zip</th>\n",
       "      <th>Lng</th>\n",
       "      <th>Lat</th>\n",
       "    </tr>\n",
       "  </thead>\n",
       "  <tbody>\n",
       "    <tr>\n",
       "      <th>0</th>\n",
       "      <td>Gabriela Baker</td>\n",
       "      <td>42</td>\n",
       "      <td>mvasquez@example.org</td>\n",
       "      <td>801.694.4378</td>\n",
       "      <td>764 Ethan Throughway Suite 183</td>\n",
       "      <td>Samanthastad</td>\n",
       "      <td>SC</td>\n",
       "      <td>91728</td>\n",
       "      <td>125.469724</td>\n",
       "      <td>-12.282770</td>\n",
       "    </tr>\n",
       "    <tr>\n",
       "      <th>1</th>\n",
       "      <td>James Wells</td>\n",
       "      <td>25</td>\n",
       "      <td>mark62@example.org</td>\n",
       "      <td>794-878-2692x3740</td>\n",
       "      <td>484 Christopher Street</td>\n",
       "      <td>Jorgefort</td>\n",
       "      <td>WY</td>\n",
       "      <td>56167</td>\n",
       "      <td>-143.632710</td>\n",
       "      <td>-72.013013</td>\n",
       "    </tr>\n",
       "    <tr>\n",
       "      <th>2</th>\n",
       "      <td>Cynthia Ortega</td>\n",
       "      <td>39</td>\n",
       "      <td>yjenkins@example.net</td>\n",
       "      <td>(545)546-3033x5442</td>\n",
       "      <td>35079 Wells Mills</td>\n",
       "      <td>Jesseberg</td>\n",
       "      <td>FM</td>\n",
       "      <td>93175</td>\n",
       "      <td>-158.882142</td>\n",
       "      <td>-26.584910</td>\n",
       "    </tr>\n",
       "    <tr>\n",
       "      <th>3</th>\n",
       "      <td>Scott Martinez</td>\n",
       "      <td>47</td>\n",
       "      <td>yhoward@example.org</td>\n",
       "      <td>(189)610-1171x67702</td>\n",
       "      <td>884 Alexander Trail Apt. 603</td>\n",
       "      <td>Garciachester</td>\n",
       "      <td>SD</td>\n",
       "      <td>88726</td>\n",
       "      <td>-147.341731</td>\n",
       "      <td>-87.286034</td>\n",
       "    </tr>\n",
       "    <tr>\n",
       "      <th>4</th>\n",
       "      <td>Thomas Pham</td>\n",
       "      <td>60</td>\n",
       "      <td>kellybruce@example.net</td>\n",
       "      <td>346.703.8071</td>\n",
       "      <td>3700 Brown Squares</td>\n",
       "      <td>Lake Ashley</td>\n",
       "      <td>MP</td>\n",
       "      <td>82286</td>\n",
       "      <td>-83.984070</td>\n",
       "      <td>50.991733</td>\n",
       "    </tr>\n",
       "    <tr>\n",
       "      <th>5</th>\n",
       "      <td>Thomas Sandoval</td>\n",
       "      <td>31</td>\n",
       "      <td>lcooper@example.com</td>\n",
       "      <td>001-806-425-2244x594</td>\n",
       "      <td>74037 Banks Extensions</td>\n",
       "      <td>Johnbury</td>\n",
       "      <td>LA</td>\n",
       "      <td>52524</td>\n",
       "      <td>-150.097645</td>\n",
       "      <td>-30.878242</td>\n",
       "    </tr>\n",
       "    <tr>\n",
       "      <th>6</th>\n",
       "      <td>Kathy Dixon</td>\n",
       "      <td>31</td>\n",
       "      <td>oconnorconnie@example.org</td>\n",
       "      <td>+1-105-760-8339</td>\n",
       "      <td>442 Stewart Viaduct</td>\n",
       "      <td>Deborahberg</td>\n",
       "      <td>TN</td>\n",
       "      <td>32689</td>\n",
       "      <td>-90.671109</td>\n",
       "      <td>-25.673032</td>\n",
       "    </tr>\n",
       "    <tr>\n",
       "      <th>7</th>\n",
       "      <td>Jose Wade</td>\n",
       "      <td>75</td>\n",
       "      <td>elizabethstone@example.org</td>\n",
       "      <td>001-633-479-0908x8704</td>\n",
       "      <td>4518 Lee Corner Apt. 887</td>\n",
       "      <td>Katrinaview</td>\n",
       "      <td>MO</td>\n",
       "      <td>6484</td>\n",
       "      <td>152.443355</td>\n",
       "      <td>76.037283</td>\n",
       "    </tr>\n",
       "    <tr>\n",
       "      <th>8</th>\n",
       "      <td>Kendra Hurley</td>\n",
       "      <td>39</td>\n",
       "      <td>johnmichael@example.net</td>\n",
       "      <td>612-910-7391</td>\n",
       "      <td>1412 Christopher Wall Apt. 726</td>\n",
       "      <td>Mullenfurt</td>\n",
       "      <td>NY</td>\n",
       "      <td>12656</td>\n",
       "      <td>14.870209</td>\n",
       "      <td>56.406968</td>\n",
       "    </tr>\n",
       "    <tr>\n",
       "      <th>9</th>\n",
       "      <td>Alexander Barber</td>\n",
       "      <td>67</td>\n",
       "      <td>kylehill@example.com</td>\n",
       "      <td>261-485-2587x06822</td>\n",
       "      <td>541 Terri Radial</td>\n",
       "      <td>Lake Kenneth</td>\n",
       "      <td>MO</td>\n",
       "      <td>17193</td>\n",
       "      <td>-38.376143</td>\n",
       "      <td>37.114747</td>\n",
       "    </tr>\n",
       "  </tbody>\n",
       "</table>\n",
       "</div>"
      ],
      "text/plain": [
       "               Name  Age                       Email                  Phone  \\\n",
       "0    Gabriela Baker   42        mvasquez@example.org           801.694.4378   \n",
       "1       James Wells   25          mark62@example.org      794-878-2692x3740   \n",
       "2    Cynthia Ortega   39        yjenkins@example.net     (545)546-3033x5442   \n",
       "3    Scott Martinez   47         yhoward@example.org    (189)610-1171x67702   \n",
       "4       Thomas Pham   60      kellybruce@example.net           346.703.8071   \n",
       "5   Thomas Sandoval   31         lcooper@example.com   001-806-425-2244x594   \n",
       "6       Kathy Dixon   31   oconnorconnie@example.org        +1-105-760-8339   \n",
       "7         Jose Wade   75  elizabethstone@example.org  001-633-479-0908x8704   \n",
       "8     Kendra Hurley   39     johnmichael@example.net           612-910-7391   \n",
       "9  Alexander Barber   67        kylehill@example.com     261-485-2587x06822   \n",
       "\n",
       "                           Street           City State    Zip         Lng  \\\n",
       "0  764 Ethan Throughway Suite 183   Samanthastad    SC  91728  125.469724   \n",
       "1          484 Christopher Street      Jorgefort    WY  56167 -143.632710   \n",
       "2               35079 Wells Mills      Jesseberg    FM  93175 -158.882142   \n",
       "3    884 Alexander Trail Apt. 603  Garciachester    SD  88726 -147.341731   \n",
       "4              3700 Brown Squares    Lake Ashley    MP  82286  -83.984070   \n",
       "5          74037 Banks Extensions       Johnbury    LA  52524 -150.097645   \n",
       "6             442 Stewart Viaduct    Deborahberg    TN  32689  -90.671109   \n",
       "7        4518 Lee Corner Apt. 887    Katrinaview    MO   6484  152.443355   \n",
       "8  1412 Christopher Wall Apt. 726     Mullenfurt    NY  12656   14.870209   \n",
       "9                541 Terri Radial   Lake Kenneth    MO  17193  -38.376143   \n",
       "\n",
       "         Lat  \n",
       "0 -12.282770  \n",
       "1 -72.013013  \n",
       "2 -26.584910  \n",
       "3 -87.286034  \n",
       "4  50.991733  \n",
       "5 -30.878242  \n",
       "6 -25.673032  \n",
       "7  76.037283  \n",
       "8  56.406968  \n",
       "9  37.114747  "
      ]
     },
     "execution_count": 17,
     "metadata": {},
     "output_type": "execute_result"
    }
   ],
   "source": [
    "df = pd.read_json('fake_data.json')\n",
    "df.head(10)"
   ]
  },
  {
   "cell_type": "code",
   "execution_count": 18,
   "id": "83e8f97a",
   "metadata": {},
   "outputs": [
    {
     "name": "stdout",
     "output_type": "stream",
     "text": [
      "<class 'pandas.core.frame.DataFrame'>\n",
      "RangeIndex: 1000 entries, 0 to 999\n",
      "Data columns (total 10 columns):\n",
      " #   Column  Non-Null Count  Dtype  \n",
      "---  ------  --------------  -----  \n",
      " 0   Name    1000 non-null   object \n",
      " 1   Age     1000 non-null   int64  \n",
      " 2   Email   1000 non-null   object \n",
      " 3   Phone   1000 non-null   object \n",
      " 4   Street  1000 non-null   object \n",
      " 5   City    1000 non-null   object \n",
      " 6   State   1000 non-null   object \n",
      " 7   Zip     1000 non-null   int64  \n",
      " 8   Lng     1000 non-null   float64\n",
      " 9   Lat     1000 non-null   float64\n",
      "dtypes: float64(2), int64(2), object(6)\n",
      "memory usage: 78.2+ KB\n"
     ]
    }
   ],
   "source": [
    "df.info()"
   ]
  },
  {
   "cell_type": "markdown",
   "id": "0e18cb3e",
   "metadata": {},
   "source": [
    "# Building Data Pipeline In Apache Airflow"
   ]
  },
  {
   "cell_type": "code",
   "execution_count": 20,
   "id": "b60a5d1a",
   "metadata": {},
   "outputs": [],
   "source": [
    "import datetime as dt\n",
    "from datetime import timedelta\n",
    "\n",
    "from airflow import DAG\n",
    "from airflow.operators.bash_operator import BashOperator\n",
    "from airflow.operators.python_operator import PythonOperator"
   ]
  },
  {
   "cell_type": "code",
   "execution_count": 21,
   "id": "825efecb",
   "metadata": {},
   "outputs": [],
   "source": [
    "# Building a CSV to JSON Data Pipeline\n",
    "def CSVToJSON():\n",
    "    df = pd.read_csv('fake_data.csv')\n",
    "    for i, r in df.iterrows():\n",
    "        print(r['Name'])\n",
    "    df.to_JSON('fromAirflow.JSON', orient = 'records')"
   ]
  },
  {
   "cell_type": "markdown",
   "id": "9054025c",
   "metadata": {},
   "source": [
    "The code above reads data from a CSV file ('fake_data.csv') using pandas, iterates over each row of the CSV file, and prints the 'Name' column of the row. It then converts the CSV data to JSON format and saves it to a file called 'fromAirflow.JSON'."
   ]
  },
  {
   "cell_type": "code",
   "execution_count": 22,
   "id": "339732a1",
   "metadata": {},
   "outputs": [],
   "source": [
    "# Implementing the Airflow by assigning arguments\n",
    "default_args = {\n",
    "    'owner': 'Benito Ywani',\n",
    "    'start_date': dt.datetime(2023, 4, 3),\n",
    "    'retries': 1,\n",
    "    'retry_delay': dt.timedelta(minutes = 5)\n",
    "}"
   ]
  },
  {
   "cell_type": "markdown",
   "id": "11b9fd20",
   "metadata": {},
   "source": [
    "This code block is defining the default arguments for an Airflow DAG (Directed Acyclic Graph).\n",
    "\n",
    "- 'owner': 'Benito Ywani': This argument sets the owner of the DAG, which is useful for identifying who created and maintains the DAG.\n",
    "\n",
    "- 'start_date': dt.datetime(2023, 4, 3): This argument sets the start date of the DAG. The DAG will not execute until this start date is reached.\n",
    "\n",
    "- 'retries': 1: This argument specifies the number of retries that should be attempted in case of a failed task.\n",
    "\n",
    "- 'retry_delay': dt.timedelta(minutes=5): This argument specifies the time delay between each retry attempt.\n",
    "\n",
    "These arguments are set in a Python dictionary format, with the keys being the argument names and the values being the argument values.\n",
    "\n",
    "NOTE: These are just default arguments and can be overridden when creating individual tasks in the DAG."
   ]
  },
  {
   "cell_type": "code",
   "execution_count": 23,
   "id": "f276392d",
   "metadata": {},
   "outputs": [],
   "source": [
    "with DAG('MyCSVDAG',\n",
    "        default_args = default_args,\n",
    "        schedule_interval = timedelta(minutes = 5),\n",
    "        # '0 * * * *',\n",
    "        ) as dag:\n",
    "    print_starting = BashOperator(task_id = 'starting',\n",
    "                                 bash_command = 'echo \"I am reading the CSV now....\"')\n",
    "    CSVJson = PythonOperator(task_id = 'convertCSVToJson',\n",
    "                            python_callable = CSVToJSON)"
   ]
  },
  {
   "cell_type": "markdown",
   "id": "315db22a",
   "metadata": {},
   "source": [
    "The code above creates an Airflow DAG object named \"MyCSVDAG\" with the given default arguments and a schedule interval of 5 minutes. The DAG object is defined using a \"with\" statement that ensures the DAG is properly closed after execution.\n",
    "\n",
    "Within the DAG, two tasks are defined using the BashOperator and PythonOperator classes. The first task, with a task ID of \"starting\", simply prints a message to the console. The second task, with a task ID of \"convertCSVToJson\", is a PythonOperator that calls the function CSVToJSON.\n",
    "\n",
    "Overall, this DAG is designed to periodically convert a CSV file to a JSON format using Airflow's task scheduling and execution capabilities."
   ]
  },
  {
   "cell_type": "code",
   "execution_count": 24,
   "id": "e8c53bf7",
   "metadata": {},
   "outputs": [],
   "source": [
    "print_starting.set_downstream(CSVJson)"
   ]
  },
  {
   "cell_type": "code",
   "execution_count": 25,
   "id": "cad43cef",
   "metadata": {},
   "outputs": [],
   "source": [
    "CSVJson.set_upstream(print_starting)"
   ]
  },
  {
   "cell_type": "code",
   "execution_count": 26,
   "id": "047523e0",
   "metadata": {},
   "outputs": [
    {
     "data": {
      "text/plain": [
       "<Task(PythonOperator): convertCSVToJson>"
      ]
     },
     "execution_count": 26,
     "metadata": {},
     "output_type": "execute_result"
    }
   ],
   "source": [
    "print_starting >> CSVJson"
   ]
  },
  {
   "cell_type": "code",
   "execution_count": 27,
   "id": "18954ac3",
   "metadata": {},
   "outputs": [
    {
     "data": {
      "text/plain": [
       "<Task(BashOperator): starting>"
      ]
     },
     "execution_count": 27,
     "metadata": {},
     "output_type": "execute_result"
    }
   ],
   "source": [
    "CSVJson << print_starting"
   ]
  },
  {
   "cell_type": "code",
   "execution_count": null,
   "id": "b4a2e39a",
   "metadata": {},
   "outputs": [],
   "source": []
  }
 ],
 "metadata": {
  "kernelspec": {
   "display_name": "Python 3.9 (Ben_TF)",
   "language": "python",
   "name": "tensorflow"
  },
  "language_info": {
   "codemirror_mode": {
    "name": "ipython",
    "version": 3
   },
   "file_extension": ".py",
   "mimetype": "text/x-python",
   "name": "python",
   "nbconvert_exporter": "python",
   "pygments_lexer": "ipython3",
   "version": "3.9.13"
  }
 },
 "nbformat": 4,
 "nbformat_minor": 5
}
