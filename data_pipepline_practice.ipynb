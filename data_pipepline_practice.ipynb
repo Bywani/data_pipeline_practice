{
 "cells": [
  {
   "cell_type": "code",
   "execution_count": 65,
   "id": "0d8d0ede",
   "metadata": {},
   "outputs": [],
   "source": [
    "import csv\n",
    "from faker import Faker\n",
    "import pandas as pd\n",
    "import json"
   ]
  },
  {
   "cell_type": "code",
   "execution_count": 5,
   "id": "6a2251d5",
   "metadata": {},
   "outputs": [],
   "source": [
    "output = open('myCSV.CSV', mode = 'w')"
   ]
  },
  {
   "cell_type": "code",
   "execution_count": 8,
   "id": "c349567e",
   "metadata": {},
   "outputs": [],
   "source": [
    "mywriter = csv.writer(output)"
   ]
  },
  {
   "cell_type": "code",
   "execution_count": 9,
   "id": "38eed7fc",
   "metadata": {},
   "outputs": [],
   "source": [
    "header = ['name', 'age']"
   ]
  },
  {
   "cell_type": "code",
   "execution_count": 10,
   "id": "8150a6d2",
   "metadata": {},
   "outputs": [
    {
     "data": {
      "text/plain": [
       "10"
      ]
     },
     "execution_count": 10,
     "metadata": {},
     "output_type": "execute_result"
    }
   ],
   "source": [
    "mywriter.writerow(header)"
   ]
  },
  {
   "cell_type": "code",
   "execution_count": 11,
   "id": "f15b63b3",
   "metadata": {},
   "outputs": [],
   "source": [
    "data = ['Bob Smith', 40]"
   ]
  },
  {
   "cell_type": "code",
   "execution_count": 12,
   "id": "42c60913",
   "metadata": {},
   "outputs": [],
   "source": [
    "mywriter.writerow(data)\n",
    "output.close()"
   ]
  },
  {
   "cell_type": "code",
   "execution_count": 13,
   "id": "74e01e5b",
   "metadata": {},
   "outputs": [
    {
     "name": "stdout",
     "output_type": "stream",
     "text": [
      "name,age\r",
      "\r\n",
      "Bob Smith,40\r",
      "\r\n"
     ]
    }
   ],
   "source": [
    "cat mycsv.csv"
   ]
  },
  {
   "cell_type": "markdown",
   "id": "2332c46f",
   "metadata": {},
   "source": [
    "# Generating Random & Fake 1000 CSV Records"
   ]
  },
  {
   "cell_type": "code",
   "execution_count": 59,
   "id": "3a1c4332",
   "metadata": {},
   "outputs": [],
   "source": [
    "# Create an instance of the Faker class\n",
    "fake = Faker()\n",
    "\n",
    "# Open a new CSV file for writing\n",
    "output = open('fake_data.csv', 'w', newline='')\n",
    "\n",
    "# Define the headers for the CSV file\n",
    "header = ['Name', 'Age', 'Email', 'Phone', 'Street', 'Sity', 'State', 'Zip', 'Lon', 'Lat']\n",
    "\n",
    "# Create a CSV writer object\n",
    "mywriter = csv.writer(output)\n",
    "\n",
    "# Write the headers to the CSV file\n",
    "mywriter.writerow(header)\n",
    "\n",
    "# Generate 1000 fake records and write them to the CSV file\n",
    "for i in range(10000):\n",
    "    mywriter.writerow([fake.name(), fake.random_int(min=18, max=80, step=1), \n",
    "                       fake.email(), fake.phone_number(),\n",
    "                       fake.street_address(), fake.city(), fake.state_abbr(), fake.zipcode(), \n",
    "                       fake.longitude(), fake.latitude()])\n",
    "\n",
    "# Close the CSV file\n",
    "output.close()"
   ]
  },
  {
   "cell_type": "code",
   "execution_count": 61,
   "id": "5cb0b6e0",
   "metadata": {},
   "outputs": [
    {
     "name": "stdout",
     "output_type": "stream",
     "text": [
      "Linda Richardson\n",
      "Michelle Green\n",
      "Joy Lopez\n",
      "Charlotte Mason\n",
      "Laura Hernandez\n",
      "Barbara Hubbard\n",
      "Lindsay Holland\n",
      "Joseph Clark\n",
      "Lindsay Hoffman\n",
      "Ms. Kathy Beltran PhD\n"
     ]
    }
   ],
   "source": [
    "with open('fake_data.csv') as f:\n",
    "    myreader = csv.DictReader(f)\n",
    "    headers = next(myreader)\n",
    "    count = 0\n",
    "    for row in myreader:\n",
    "        if count < 10:\n",
    "            print(row['Name'])\n",
    "            count += 1\n",
    "        else:\n",
    "            break"
   ]
  },
  {
   "cell_type": "code",
   "execution_count": 62,
   "id": "dbc78532",
   "metadata": {},
   "outputs": [
    {
     "data": {
      "text/html": [
       "<div>\n",
       "<style scoped>\n",
       "    .dataframe tbody tr th:only-of-type {\n",
       "        vertical-align: middle;\n",
       "    }\n",
       "\n",
       "    .dataframe tbody tr th {\n",
       "        vertical-align: top;\n",
       "    }\n",
       "\n",
       "    .dataframe thead th {\n",
       "        text-align: right;\n",
       "    }\n",
       "</style>\n",
       "<table border=\"1\" class=\"dataframe\">\n",
       "  <thead>\n",
       "    <tr style=\"text-align: right;\">\n",
       "      <th></th>\n",
       "      <th>Name</th>\n",
       "      <th>Age</th>\n",
       "      <th>Email</th>\n",
       "      <th>Phone</th>\n",
       "      <th>Street</th>\n",
       "      <th>Sity</th>\n",
       "      <th>State</th>\n",
       "      <th>Zip</th>\n",
       "      <th>Lon</th>\n",
       "      <th>Lat</th>\n",
       "    </tr>\n",
       "  </thead>\n",
       "  <tbody>\n",
       "    <tr>\n",
       "      <th>0</th>\n",
       "      <td>Vincent Brown</td>\n",
       "      <td>21</td>\n",
       "      <td>bmorales@example.org</td>\n",
       "      <td>2271007326</td>\n",
       "      <td>640 Barnes Valleys Suite 254</td>\n",
       "      <td>New Anthony</td>\n",
       "      <td>PA</td>\n",
       "      <td>45312</td>\n",
       "      <td>-87.608121</td>\n",
       "      <td>-72.001186</td>\n",
       "    </tr>\n",
       "    <tr>\n",
       "      <th>1</th>\n",
       "      <td>Linda Richardson</td>\n",
       "      <td>73</td>\n",
       "      <td>amandaestrada@example.org</td>\n",
       "      <td>(510)211-9051</td>\n",
       "      <td>47236 Paul Path</td>\n",
       "      <td>Port George</td>\n",
       "      <td>ME</td>\n",
       "      <td>11944</td>\n",
       "      <td>-154.144008</td>\n",
       "      <td>57.444101</td>\n",
       "    </tr>\n",
       "    <tr>\n",
       "      <th>2</th>\n",
       "      <td>Michelle Green</td>\n",
       "      <td>54</td>\n",
       "      <td>ihenry@example.org</td>\n",
       "      <td>346.659.7589</td>\n",
       "      <td>40467 Duffy Mount Suite 269</td>\n",
       "      <td>Lake Melindaland</td>\n",
       "      <td>MT</td>\n",
       "      <td>91349</td>\n",
       "      <td>25.999242</td>\n",
       "      <td>26.798922</td>\n",
       "    </tr>\n",
       "    <tr>\n",
       "      <th>3</th>\n",
       "      <td>Joy Lopez</td>\n",
       "      <td>24</td>\n",
       "      <td>sgregory@example.org</td>\n",
       "      <td>+1-207-531-3425x6257</td>\n",
       "      <td>00830 Mark Parks</td>\n",
       "      <td>East Judymouth</td>\n",
       "      <td>VI</td>\n",
       "      <td>66509</td>\n",
       "      <td>64.461106</td>\n",
       "      <td>68.284060</td>\n",
       "    </tr>\n",
       "    <tr>\n",
       "      <th>4</th>\n",
       "      <td>Charlotte Mason</td>\n",
       "      <td>66</td>\n",
       "      <td>richardthomas@example.com</td>\n",
       "      <td>+1-873-579-2792x2863</td>\n",
       "      <td>7152 Anderson Expressway Suite 495</td>\n",
       "      <td>Michaelborough</td>\n",
       "      <td>NH</td>\n",
       "      <td>19716</td>\n",
       "      <td>-80.289553</td>\n",
       "      <td>23.531159</td>\n",
       "    </tr>\n",
       "    <tr>\n",
       "      <th>5</th>\n",
       "      <td>Laura Hernandez</td>\n",
       "      <td>55</td>\n",
       "      <td>johnbrooks@example.com</td>\n",
       "      <td>(945)657-2282</td>\n",
       "      <td>867 Hale Fields Apt. 377</td>\n",
       "      <td>Lisaport</td>\n",
       "      <td>GA</td>\n",
       "      <td>28447</td>\n",
       "      <td>131.603388</td>\n",
       "      <td>42.396495</td>\n",
       "    </tr>\n",
       "    <tr>\n",
       "      <th>6</th>\n",
       "      <td>Barbara Hubbard</td>\n",
       "      <td>63</td>\n",
       "      <td>lclark@example.com</td>\n",
       "      <td>001-594-893-6925x30991</td>\n",
       "      <td>73045 Ellison Knolls</td>\n",
       "      <td>West Cody</td>\n",
       "      <td>LA</td>\n",
       "      <td>95808</td>\n",
       "      <td>-35.072261</td>\n",
       "      <td>6.005253</td>\n",
       "    </tr>\n",
       "    <tr>\n",
       "      <th>7</th>\n",
       "      <td>Lindsay Holland</td>\n",
       "      <td>22</td>\n",
       "      <td>dianeaustin@example.net</td>\n",
       "      <td>001-468-494-1951x90912</td>\n",
       "      <td>606 Reed Gardens</td>\n",
       "      <td>Brocktown</td>\n",
       "      <td>HI</td>\n",
       "      <td>44568</td>\n",
       "      <td>-59.528288</td>\n",
       "      <td>73.027761</td>\n",
       "    </tr>\n",
       "    <tr>\n",
       "      <th>8</th>\n",
       "      <td>Joseph Clark</td>\n",
       "      <td>49</td>\n",
       "      <td>michaelvazquez@example.com</td>\n",
       "      <td>699-103-5900x68728</td>\n",
       "      <td>08171 Tanner Points</td>\n",
       "      <td>South Katrinachester</td>\n",
       "      <td>FM</td>\n",
       "      <td>34950</td>\n",
       "      <td>22.393716</td>\n",
       "      <td>37.014673</td>\n",
       "    </tr>\n",
       "    <tr>\n",
       "      <th>9</th>\n",
       "      <td>Lindsay Hoffman</td>\n",
       "      <td>43</td>\n",
       "      <td>sharon91@example.com</td>\n",
       "      <td>902.614.7876</td>\n",
       "      <td>88548 Simon Trafficway Apt. 061</td>\n",
       "      <td>Rodriguezstad</td>\n",
       "      <td>FL</td>\n",
       "      <td>19823</td>\n",
       "      <td>-12.815628</td>\n",
       "      <td>-0.778114</td>\n",
       "    </tr>\n",
       "  </tbody>\n",
       "</table>\n",
       "</div>"
      ],
      "text/plain": [
       "               Name  Age                       Email                   Phone  \\\n",
       "0     Vincent Brown   21        bmorales@example.org              2271007326   \n",
       "1  Linda Richardson   73   amandaestrada@example.org           (510)211-9051   \n",
       "2    Michelle Green   54          ihenry@example.org            346.659.7589   \n",
       "3         Joy Lopez   24        sgregory@example.org    +1-207-531-3425x6257   \n",
       "4   Charlotte Mason   66   richardthomas@example.com    +1-873-579-2792x2863   \n",
       "5   Laura Hernandez   55      johnbrooks@example.com           (945)657-2282   \n",
       "6   Barbara Hubbard   63          lclark@example.com  001-594-893-6925x30991   \n",
       "7   Lindsay Holland   22     dianeaustin@example.net  001-468-494-1951x90912   \n",
       "8      Joseph Clark   49  michaelvazquez@example.com      699-103-5900x68728   \n",
       "9   Lindsay Hoffman   43        sharon91@example.com            902.614.7876   \n",
       "\n",
       "                               Street                  Sity State    Zip  \\\n",
       "0        640 Barnes Valleys Suite 254           New Anthony    PA  45312   \n",
       "1                     47236 Paul Path           Port George    ME  11944   \n",
       "2         40467 Duffy Mount Suite 269      Lake Melindaland    MT  91349   \n",
       "3                    00830 Mark Parks        East Judymouth    VI  66509   \n",
       "4  7152 Anderson Expressway Suite 495        Michaelborough    NH  19716   \n",
       "5            867 Hale Fields Apt. 377              Lisaport    GA  28447   \n",
       "6                73045 Ellison Knolls             West Cody    LA  95808   \n",
       "7                    606 Reed Gardens             Brocktown    HI  44568   \n",
       "8                 08171 Tanner Points  South Katrinachester    FM  34950   \n",
       "9     88548 Simon Trafficway Apt. 061         Rodriguezstad    FL  19823   \n",
       "\n",
       "          Lon        Lat  \n",
       "0  -87.608121 -72.001186  \n",
       "1 -154.144008  57.444101  \n",
       "2   25.999242  26.798922  \n",
       "3   64.461106  68.284060  \n",
       "4  -80.289553  23.531159  \n",
       "5  131.603388  42.396495  \n",
       "6  -35.072261   6.005253  \n",
       "7  -59.528288  73.027761  \n",
       "8   22.393716  37.014673  \n",
       "9  -12.815628  -0.778114  "
      ]
     },
     "execution_count": 62,
     "metadata": {},
     "output_type": "execute_result"
    }
   ],
   "source": [
    "# Reading the fake files using pandas.\n",
    "df = pd.read_csv('fake_data.csv')\n",
    "df.head(10)"
   ]
  },
  {
   "cell_type": "code",
   "execution_count": 63,
   "id": "5df4e7df",
   "metadata": {},
   "outputs": [
    {
     "data": {
      "text/plain": [
       "(10000, 10)"
      ]
     },
     "execution_count": 63,
     "metadata": {},
     "output_type": "execute_result"
    }
   ],
   "source": [
    "df.shape"
   ]
  },
  {
   "cell_type": "code",
   "execution_count": 64,
   "id": "1b9c65a1",
   "metadata": {},
   "outputs": [
    {
     "name": "stdout",
     "output_type": "stream",
     "text": [
      "<class 'pandas.core.frame.DataFrame'>\n",
      "RangeIndex: 10000 entries, 0 to 9999\n",
      "Data columns (total 10 columns):\n",
      " #   Column  Non-Null Count  Dtype  \n",
      "---  ------  --------------  -----  \n",
      " 0   Name    10000 non-null  object \n",
      " 1   Age     10000 non-null  int64  \n",
      " 2   Email   10000 non-null  object \n",
      " 3   Phone   10000 non-null  object \n",
      " 4   Street  10000 non-null  object \n",
      " 5   Sity    10000 non-null  object \n",
      " 6   State   10000 non-null  object \n",
      " 7   Zip     10000 non-null  int64  \n",
      " 8   Lon     10000 non-null  float64\n",
      " 9   Lat     10000 non-null  float64\n",
      "dtypes: float64(2), int64(2), object(6)\n",
      "memory usage: 781.4+ KB\n"
     ]
    }
   ],
   "source": [
    "df.info()"
   ]
  },
  {
   "cell_type": "markdown",
   "id": "ba1a5424",
   "metadata": {},
   "source": [
    "# Generating Random & Fake 1000 JSON Records"
   ]
  },
  {
   "cell_type": "code",
   "execution_count": 70,
   "id": "35315d7c",
   "metadata": {},
   "outputs": [],
   "source": [
    "# Generate 10000 fake records and store them in a list of dictionaries\n",
    "fake_data = []\n",
    "for i in range(10000):\n",
    "    fake_record = {\n",
    "        'Name': fake.name(),\n",
    "        'Age': fake.random_int(min=18, max=80, step=1),\n",
    "        'Email': fake.email(),\n",
    "        'Phone': fake.phone_number(),\n",
    "        'Street': fake.street_address(),\n",
    "        'City': fake.city(),\n",
    "        'State': fake.state_abbr(),\n",
    "        'Zip': fake.zipcode(),\n",
    "       'Lng': str(fake.longitude()),\n",
    "        'Lat': str(fake.latitude())\n",
    "    }\n",
    "    fake_data.append(fake_record)"
   ]
  },
  {
   "cell_type": "code",
   "execution_count": 71,
   "id": "4f0b39b6",
   "metadata": {},
   "outputs": [],
   "source": [
    "# Open a new JSON file for writing\n",
    "with open('fake_data.json', 'w') as f:\n",
    "    json.dump(fake_data, f, indent = 4)"
   ]
  },
  {
   "cell_type": "code",
   "execution_count": 72,
   "id": "c14f9d27",
   "metadata": {},
   "outputs": [
    {
     "name": "stdout",
     "output_type": "stream",
     "text": [
      "lhudson@example.net\n",
      "jacquelinebrennan@example.com\n",
      "gmckenzie@example.net\n",
      "uboone@example.com\n",
      "morgansoto@example.net\n",
      "adamsaaron@example.net\n",
      "malexander@example.org\n",
      "ojenkins@example.net\n",
      "howarddaniel@example.net\n",
      "davidduarte@example.com\n"
     ]
    }
   ],
   "source": [
    "# Open the json file for reading\n",
    "with open('fake_data.json', 'r') as f:\n",
    "    data = json.load(f)\n",
    "# Print the first 10 rows for the email records.\n",
    "for row in data[:10]:\n",
    "    print(row['Email'])"
   ]
  },
  {
   "cell_type": "code",
   "execution_count": 73,
   "id": "180781f4",
   "metadata": {},
   "outputs": [
    {
     "data": {
      "text/html": [
       "<div>\n",
       "<style scoped>\n",
       "    .dataframe tbody tr th:only-of-type {\n",
       "        vertical-align: middle;\n",
       "    }\n",
       "\n",
       "    .dataframe tbody tr th {\n",
       "        vertical-align: top;\n",
       "    }\n",
       "\n",
       "    .dataframe thead th {\n",
       "        text-align: right;\n",
       "    }\n",
       "</style>\n",
       "<table border=\"1\" class=\"dataframe\">\n",
       "  <thead>\n",
       "    <tr style=\"text-align: right;\">\n",
       "      <th></th>\n",
       "      <th>Name</th>\n",
       "      <th>Age</th>\n",
       "      <th>Email</th>\n",
       "      <th>Phone</th>\n",
       "      <th>Street</th>\n",
       "      <th>City</th>\n",
       "      <th>State</th>\n",
       "      <th>Zip</th>\n",
       "      <th>Lng</th>\n",
       "      <th>Lat</th>\n",
       "    </tr>\n",
       "  </thead>\n",
       "  <tbody>\n",
       "    <tr>\n",
       "      <th>0</th>\n",
       "      <td>Gerald Robinson</td>\n",
       "      <td>40</td>\n",
       "      <td>lhudson@example.net</td>\n",
       "      <td>4230663406</td>\n",
       "      <td>1623 Michelle View Suite 706</td>\n",
       "      <td>North Charles</td>\n",
       "      <td>WY</td>\n",
       "      <td>97807</td>\n",
       "      <td>-155.661868</td>\n",
       "      <td>-70.493771</td>\n",
       "    </tr>\n",
       "    <tr>\n",
       "      <th>1</th>\n",
       "      <td>Jeffrey Sims</td>\n",
       "      <td>20</td>\n",
       "      <td>jacquelinebrennan@example.com</td>\n",
       "      <td>327-385-2453x13391</td>\n",
       "      <td>321 Mariah Center</td>\n",
       "      <td>Lake Jamesville</td>\n",
       "      <td>NY</td>\n",
       "      <td>9237</td>\n",
       "      <td>-104.780148</td>\n",
       "      <td>3.465054</td>\n",
       "    </tr>\n",
       "    <tr>\n",
       "      <th>2</th>\n",
       "      <td>Kelli Williams</td>\n",
       "      <td>39</td>\n",
       "      <td>gmckenzie@example.net</td>\n",
       "      <td>838-972-2820x455</td>\n",
       "      <td>007 Travis Throughway</td>\n",
       "      <td>South John</td>\n",
       "      <td>AZ</td>\n",
       "      <td>30865</td>\n",
       "      <td>46.080645</td>\n",
       "      <td>-74.489291</td>\n",
       "    </tr>\n",
       "    <tr>\n",
       "      <th>3</th>\n",
       "      <td>Kyle Jones</td>\n",
       "      <td>26</td>\n",
       "      <td>uboone@example.com</td>\n",
       "      <td>001-257-943-4305x8862</td>\n",
       "      <td>87406 Charles Trail Suite 778</td>\n",
       "      <td>Adamsmouth</td>\n",
       "      <td>IA</td>\n",
       "      <td>94433</td>\n",
       "      <td>64.149508</td>\n",
       "      <td>-0.853549</td>\n",
       "    </tr>\n",
       "    <tr>\n",
       "      <th>4</th>\n",
       "      <td>Maria Collins</td>\n",
       "      <td>41</td>\n",
       "      <td>morgansoto@example.net</td>\n",
       "      <td>377-668-6543x35820</td>\n",
       "      <td>8458 Krista Gateway</td>\n",
       "      <td>Lake Patrick</td>\n",
       "      <td>HI</td>\n",
       "      <td>18645</td>\n",
       "      <td>117.334421</td>\n",
       "      <td>-25.468836</td>\n",
       "    </tr>\n",
       "    <tr>\n",
       "      <th>5</th>\n",
       "      <td>Kathy Williamson</td>\n",
       "      <td>71</td>\n",
       "      <td>adamsaaron@example.net</td>\n",
       "      <td>(573)117-0111x706</td>\n",
       "      <td>841 Daniel Squares Apt. 577</td>\n",
       "      <td>Chelseaburgh</td>\n",
       "      <td>MO</td>\n",
       "      <td>83049</td>\n",
       "      <td>-114.662537</td>\n",
       "      <td>69.188851</td>\n",
       "    </tr>\n",
       "    <tr>\n",
       "      <th>6</th>\n",
       "      <td>Steven Watkins</td>\n",
       "      <td>54</td>\n",
       "      <td>malexander@example.org</td>\n",
       "      <td>(160)568-1041x95567</td>\n",
       "      <td>769 Janet Cape Suite 661</td>\n",
       "      <td>West Brian</td>\n",
       "      <td>AK</td>\n",
       "      <td>7984</td>\n",
       "      <td>-103.404223</td>\n",
       "      <td>48.325676</td>\n",
       "    </tr>\n",
       "    <tr>\n",
       "      <th>7</th>\n",
       "      <td>Christine Lewis</td>\n",
       "      <td>68</td>\n",
       "      <td>ojenkins@example.net</td>\n",
       "      <td>+1-868-828-9097x3610</td>\n",
       "      <td>735 Gregory Hill Apt. 121</td>\n",
       "      <td>South Barbarachester</td>\n",
       "      <td>NH</td>\n",
       "      <td>49253</td>\n",
       "      <td>71.717514</td>\n",
       "      <td>13.881720</td>\n",
       "    </tr>\n",
       "    <tr>\n",
       "      <th>8</th>\n",
       "      <td>Justin Fuller</td>\n",
       "      <td>48</td>\n",
       "      <td>howarddaniel@example.net</td>\n",
       "      <td>819.558.5824x345</td>\n",
       "      <td>688 Hector Ways</td>\n",
       "      <td>Port Rebecca</td>\n",
       "      <td>MO</td>\n",
       "      <td>38020</td>\n",
       "      <td>-30.286671</td>\n",
       "      <td>75.327608</td>\n",
       "    </tr>\n",
       "    <tr>\n",
       "      <th>9</th>\n",
       "      <td>Jerry Jones</td>\n",
       "      <td>38</td>\n",
       "      <td>davidduarte@example.com</td>\n",
       "      <td>+1-442-006-1379x54008</td>\n",
       "      <td>417 Rodriguez Lock Suite 026</td>\n",
       "      <td>West Stephen</td>\n",
       "      <td>AZ</td>\n",
       "      <td>23559</td>\n",
       "      <td>42.443270</td>\n",
       "      <td>-7.976802</td>\n",
       "    </tr>\n",
       "  </tbody>\n",
       "</table>\n",
       "</div>"
      ],
      "text/plain": [
       "               Name  Age                          Email  \\\n",
       "0   Gerald Robinson   40            lhudson@example.net   \n",
       "1      Jeffrey Sims   20  jacquelinebrennan@example.com   \n",
       "2    Kelli Williams   39          gmckenzie@example.net   \n",
       "3        Kyle Jones   26             uboone@example.com   \n",
       "4     Maria Collins   41         morgansoto@example.net   \n",
       "5  Kathy Williamson   71         adamsaaron@example.net   \n",
       "6    Steven Watkins   54         malexander@example.org   \n",
       "7   Christine Lewis   68           ojenkins@example.net   \n",
       "8     Justin Fuller   48       howarddaniel@example.net   \n",
       "9       Jerry Jones   38        davidduarte@example.com   \n",
       "\n",
       "                   Phone                         Street                  City  \\\n",
       "0             4230663406   1623 Michelle View Suite 706         North Charles   \n",
       "1     327-385-2453x13391              321 Mariah Center       Lake Jamesville   \n",
       "2       838-972-2820x455          007 Travis Throughway            South John   \n",
       "3  001-257-943-4305x8862  87406 Charles Trail Suite 778            Adamsmouth   \n",
       "4     377-668-6543x35820            8458 Krista Gateway          Lake Patrick   \n",
       "5      (573)117-0111x706    841 Daniel Squares Apt. 577          Chelseaburgh   \n",
       "6    (160)568-1041x95567       769 Janet Cape Suite 661            West Brian   \n",
       "7   +1-868-828-9097x3610      735 Gregory Hill Apt. 121  South Barbarachester   \n",
       "8       819.558.5824x345                688 Hector Ways          Port Rebecca   \n",
       "9  +1-442-006-1379x54008   417 Rodriguez Lock Suite 026          West Stephen   \n",
       "\n",
       "  State    Zip         Lng        Lat  \n",
       "0    WY  97807 -155.661868 -70.493771  \n",
       "1    NY   9237 -104.780148   3.465054  \n",
       "2    AZ  30865   46.080645 -74.489291  \n",
       "3    IA  94433   64.149508  -0.853549  \n",
       "4    HI  18645  117.334421 -25.468836  \n",
       "5    MO  83049 -114.662537  69.188851  \n",
       "6    AK   7984 -103.404223  48.325676  \n",
       "7    NH  49253   71.717514  13.881720  \n",
       "8    MO  38020  -30.286671  75.327608  \n",
       "9    AZ  23559   42.443270  -7.976802  "
      ]
     },
     "execution_count": 73,
     "metadata": {},
     "output_type": "execute_result"
    }
   ],
   "source": [
    "df = pd.read_json('fake_data.json')\n",
    "df.head(10)"
   ]
  },
  {
   "cell_type": "code",
   "execution_count": 74,
   "id": "83e8f97a",
   "metadata": {},
   "outputs": [
    {
     "name": "stdout",
     "output_type": "stream",
     "text": [
      "<class 'pandas.core.frame.DataFrame'>\n",
      "RangeIndex: 10000 entries, 0 to 9999\n",
      "Data columns (total 10 columns):\n",
      " #   Column  Non-Null Count  Dtype  \n",
      "---  ------  --------------  -----  \n",
      " 0   Name    10000 non-null  object \n",
      " 1   Age     10000 non-null  int64  \n",
      " 2   Email   10000 non-null  object \n",
      " 3   Phone   10000 non-null  object \n",
      " 4   Street  10000 non-null  object \n",
      " 5   City    10000 non-null  object \n",
      " 6   State   10000 non-null  object \n",
      " 7   Zip     10000 non-null  int64  \n",
      " 8   Lng     10000 non-null  float64\n",
      " 9   Lat     10000 non-null  float64\n",
      "dtypes: float64(2), int64(2), object(6)\n",
      "memory usage: 781.4+ KB\n"
     ]
    }
   ],
   "source": [
    "df.info()"
   ]
  },
  {
   "cell_type": "markdown",
   "id": "0e18cb3e",
   "metadata": {},
   "source": [
    "# Building Data Pipeline In Apache Airflow"
   ]
  },
  {
   "cell_type": "code",
   "execution_count": 76,
   "id": "b60a5d1a",
   "metadata": {},
   "outputs": [],
   "source": [
    "import datetime as dt\n",
    "from datetime import timedelta\n",
    "\n",
    "from airflow import DAG\n",
    "from airflow.operators.bash_operator import BashOperator\n",
    "from airflow.operators.python_operator import PythonOperator"
   ]
  },
  {
   "cell_type": "code",
   "execution_count": 77,
   "id": "825efecb",
   "metadata": {},
   "outputs": [],
   "source": [
    "# Building a CSV to JSON Data Pipeline\n",
    "def CSVToJSON():\n",
    "    df = pd.read_csv('fake_data.csv')\n",
    "    for i, r in df.iterrows():\n",
    "        print(r['Name'])\n",
    "    df.to_JSON('fromAirflow.JSON', orient = 'records')"
   ]
  },
  {
   "cell_type": "markdown",
   "id": "9054025c",
   "metadata": {},
   "source": [
    "The code above reads data from a CSV file ('fake_data.csv') using pandas, iterates over each row of the CSV file, and prints the 'Name' column of the row. It then converts the CSV data to JSON format and saves it to a file called 'fromAirflow.JSON'."
   ]
  },
  {
   "cell_type": "code",
   "execution_count": 78,
   "id": "339732a1",
   "metadata": {},
   "outputs": [],
   "source": [
    "# Implementing the Airflow by assigning arguments\n",
    "default_args = {\n",
    "    'owner': 'Benito Ywani',\n",
    "    'start_date': dt.datetime(2023, 4, 3),\n",
    "    'retries': 1,\n",
    "    'retry_delay': dt.timedelta(minutes = 5)\n",
    "}"
   ]
  },
  {
   "cell_type": "markdown",
   "id": "11b9fd20",
   "metadata": {},
   "source": [
    "This code block is defining the default arguments for an Airflow DAG (Directed Acyclic Graph).\n",
    "\n",
    "- 'owner': 'Benito Ywani': This argument sets the owner of the DAG, which is useful for identifying who created and maintains the DAG.\n",
    "\n",
    "- 'start_date': dt.datetime(2023, 4, 3): This argument sets the start date of the DAG. The DAG will not execute until this start date is reached.\n",
    "\n",
    "- 'retries': 1: This argument specifies the number of retries that should be attempted in case of a failed task.\n",
    "\n",
    "- 'retry_delay': dt.timedelta(minutes=5): This argument specifies the time delay between each retry attempt.\n",
    "\n",
    "These arguments are set in a Python dictionary format, with the keys being the argument names and the values being the argument values.\n",
    "\n",
    "NOTE: These are just default arguments and can be overridden when creating individual tasks in the DAG."
   ]
  },
  {
   "cell_type": "code",
   "execution_count": 80,
   "id": "f276392d",
   "metadata": {},
   "outputs": [],
   "source": [
    "with DAG('MyCSVDAG',\n",
    "        default_args = default_args,\n",
    "        schedule_interval = timedelta(minutes = 5),\n",
    "        # '0 * * * *',\n",
    "        ) as dag:\n",
    "    print_starting = BashOperator(task_id = 'starting',\n",
    "                                 bash_command = 'echo \"I am reading the CSV now....\"')\n",
    "    CSVJson = PythonOperator(task_id = 'convertCSVToJson',\n",
    "                            python_callable = CSVToJSON)"
   ]
  },
  {
   "cell_type": "markdown",
   "id": "315db22a",
   "metadata": {},
   "source": [
    "The code above creates an Airflow DAG object named \"MyCSVDAG\" with the given default arguments and a schedule interval of 5 minutes. The DAG object is defined using a \"with\" statement that ensures the DAG is properly closed after execution.\n",
    "\n",
    "Within the DAG, two tasks are defined using the BashOperator and PythonOperator classes. The first task, with a task ID of \"starting\", simply prints a message to the console. The second task, with a task ID of \"convertCSVToJson\", is a PythonOperator that calls the function CSVToJSON.\n",
    "\n",
    "Overall, this DAG is designed to periodically convert a CSV file to a JSON format using Airflow's task scheduling and execution capabilities."
   ]
  },
  {
   "cell_type": "code",
   "execution_count": 86,
   "id": "e8c53bf7",
   "metadata": {},
   "outputs": [],
   "source": [
    "print_starting.set_downstream(CSVJson)"
   ]
  },
  {
   "cell_type": "code",
   "execution_count": 88,
   "id": "cad43cef",
   "metadata": {},
   "outputs": [],
   "source": [
    "CSVJson.set_upstream(print_starting)"
   ]
  },
  {
   "cell_type": "code",
   "execution_count": 89,
   "id": "047523e0",
   "metadata": {},
   "outputs": [
    {
     "data": {
      "text/plain": [
       "<Task(PythonOperator): convertCSVToJson>"
      ]
     },
     "execution_count": 89,
     "metadata": {},
     "output_type": "execute_result"
    }
   ],
   "source": [
    "print_starting >> CSVJson"
   ]
  },
  {
   "cell_type": "code",
   "execution_count": 90,
   "id": "18954ac3",
   "metadata": {},
   "outputs": [
    {
     "data": {
      "text/plain": [
       "<Task(BashOperator): starting>"
      ]
     },
     "execution_count": 90,
     "metadata": {},
     "output_type": "execute_result"
    }
   ],
   "source": [
    "CSVJson << print_starting"
   ]
  },
  {
   "cell_type": "code",
   "execution_count": null,
   "id": "b4a2e39a",
   "metadata": {},
   "outputs": [],
   "source": []
  }
 ],
 "metadata": {
  "kernelspec": {
   "display_name": "Python 3.9 (Ben_TF)",
   "language": "python",
   "name": "tensorflow"
  },
  "language_info": {
   "codemirror_mode": {
    "name": "ipython",
    "version": 3
   },
   "file_extension": ".py",
   "mimetype": "text/x-python",
   "name": "python",
   "nbconvert_exporter": "python",
   "pygments_lexer": "ipython3",
   "version": "3.9.13"
  }
 },
 "nbformat": 4,
 "nbformat_minor": 5
}
